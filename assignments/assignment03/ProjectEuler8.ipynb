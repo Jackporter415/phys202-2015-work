{
 "cells": [
  {
   "cell_type": "markdown",
   "metadata": {
    "nbgrader": {}
   },
   "source": [
    "# Project Euler: Problem 8"
   ]
  },
  {
   "cell_type": "markdown",
   "metadata": {
    "nbgrader": {}
   },
   "source": [
    "https://projecteuler.net/problem=8\n",
    "\n",
    "The four adjacent digits in the 1000-digit number that have the greatest product are 9 × 9 × 8 × 9 = 5832.\n",
    "\n",
    "(see the number below)\n",
    "\n",
    "Find the thirteen adjacent digits in the 1000-digit number that have the greatest product. What is the value of this product?\n",
    "\n",
    "Use NumPy for this computation"
   ]
  },
  {
   "cell_type": "code",
   "execution_count": 1,
   "metadata": {
    "collapsed": true,
    "nbgrader": {}
   },
   "outputs": [],
   "source": [
    "import numpy as np"
   ]
  },
  {
   "cell_type": "code",
   "execution_count": 3,
   "metadata": {
    "collapsed": false,
    "nbgrader": {}
   },
   "outputs": [],
   "source": [
    "d1000 = \"7316717653133062491922511967442657474235534919493496983520312774506326239578318016984801869478851843858615607891129494954595017379583319528532088055111254069874715852386305071569329096329522744304355766896648950445244523161731856403098711121722383113622298934233803081353362766142828064444866452387493035890729629049156044077239071381051585930796086670172427121883998797908792274921901699720888093776657273330010533678812202354218097512545405947522435258490771167055601360483958644670632441572215539753697817977846174064955149290862569321978468622482839722413756570560574902614079729686524145351004748216637048440319989000889524345065854122758866688116427171479924442928230863465674813919123162824586178664583591245665294765456828489128831426076900422421902267105562632111110937054421750694165896040807198403850962455444362981230987879927244284909188845801561660979191338754992005240636899125607176060588611646710940507754100225698315520005593572972571636269561882670428252483600823257530420752963450\"\n"
   ]
  },
  {
   "cell_type": "code",
   "execution_count": 43,
   "metadata": {
    "collapsed": false,
    "deletable": false,
    "nbgrader": {
     "checksum": "6cff4e8e53b15273846c3aecaea84a3d",
     "solution": true
    }
   },
   "outputs": [
    {
     "name": "stdout",
     "output_type": "stream",
     "text": [
      "[23514624000]\n"
     ]
    },
    {
     "data": {
      "text/plain": [
       "\"The way I wanted to do this problem was as follows:\\nI would convert d1000 to a string and then place that string into an array using the indices\\nof the string as the indices of the array. Doing this I would loop through each index multipying the following\\n12 indices by the current one. I would include an if statement that broke the loop when the index was\\n13 away from the end. (This way it would stay in the range) I would put all of these values into an array and \\nsort that array and print out the last element in the array. Unfortunately, I couldn't put the string into the\\narray correctly. However, once I got over this hump, I believe my code would have worked. \""
      ]
     },
     "execution_count": 43,
     "metadata": {},
     "output_type": "execute_result"
    }
   ],
   "source": [
    "#initalizes d1000 into an array, would want it to be a string but could not figure out how to properly\n",
    "#match up indices. \n",
    "\n",
    "f = np.arange(0,1000)\n",
    "for x in range(1000):\n",
    "    f[x] = d1000[x]\n",
    "#print (f)\n",
    "# i = 13 because must be 13 numbers, so must start at 13\n",
    "i = 13\n",
    "b = []\n",
    "d = []\n",
    "#Loops through while i < the size of a - 13\n",
    "while i < len(f):\n",
    "    #Counting variable\n",
    "    \n",
    "    #Slices a into 13 numbers\n",
    "    c = f[i-13:i]\n",
    "    \n",
    "    #Deals with when i would go out of the index\n",
    "    if i == len(f):\n",
    "        break\n",
    "    #b = prod of 13 numbers\n",
    "    b = np.cumprod(c)\n",
    "    d.append([b[-1]])\n",
    "    i = i + 1\n",
    "#sorts d and then prints the largest number (the last index)\n",
    "d.sort()\n",
    "print (d[-1])\n",
    "    \n",
    "\n",
    "    #Initial thoughts. \n",
    "\"\"\"The way I wanted to do this problem was as follows:\n",
    "I would convert d1000 to a string and then place that string into an array using the indices\n",
    "of the string as the indices of the array. Doing this I would loop through each index multipying the following\n",
    "12 indices by the current one. I would include an if statement that broke the loop when the index was\n",
    "13 away from the end. (This way it would stay in the range) I would put all of these values into an array and \n",
    "sort that array and print out the last element in the array. Unfortunately, I couldn't put the string into the\n",
    "array correctly. However, once I got over this hump, I believe my code would have worked. \"\"\""
   ]
  },
  {
   "cell_type": "code",
   "execution_count": 10,
   "metadata": {
    "collapsed": true,
    "deletable": false,
    "nbgrader": {
     "checksum": "21332c13eb4f8f18191bd8d47414b7fc",
     "grade": true,
     "grade_id": "projecteuler8",
     "points": 10
    }
   },
   "outputs": [],
   "source": [
    "assert True # leave this for grading"
   ]
  },
  {
   "cell_type": "code",
   "execution_count": null,
   "metadata": {
    "collapsed": true
   },
   "outputs": [],
   "source": []
  }
 ],
 "metadata": {
  "kernelspec": {
   "display_name": "Python 3",
   "language": "python",
   "name": "python3"
  },
  "language_info": {
   "codemirror_mode": {
    "name": "ipython",
    "version": 3
   },
   "file_extension": ".py",
   "mimetype": "text/x-python",
   "name": "python",
   "nbconvert_exporter": "python",
   "pygments_lexer": "ipython3",
   "version": "3.4.0"
  }
 },
 "nbformat": 4,
 "nbformat_minor": 0
}
