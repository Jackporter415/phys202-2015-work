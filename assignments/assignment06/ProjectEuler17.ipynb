{
 "cells": [
  {
   "cell_type": "markdown",
   "metadata": {
    "nbgrader": {}
   },
   "source": [
    "# Project Euler: Problem 17"
   ]
  },
  {
   "cell_type": "markdown",
   "metadata": {
    "nbgrader": {}
   },
   "source": [
    "https://projecteuler.net/problem=17\n",
    "\n",
    "If the numbers 1 to 5 are written out in words: one, two, three, four, five, then there are 3 + 3 + 5 + 4 + 4 = 19 letters used in total.\n",
    "\n",
    "If all the numbers from 1 to 1000 (one thousand) inclusive were written out in words, how many letters would be used?\n",
    "\n",
    "\n",
    "NOTE: Do not count spaces or hyphens. For example, 342 (three hundred and forty-two) contains 23 letters and 115 (one hundred and fifteen) contains 20 letters. The use of \"and\" when writing out numbers is in compliance with British usage."
   ]
  },
  {
   "cell_type": "markdown",
   "metadata": {
    "nbgrader": {}
   },
   "source": [
    "First write a `number_to_words(n)` function that takes an integer `n` between 1 and 1000 inclusive and returns a list of words for the number as described above"
   ]
  },
  {
   "cell_type": "code",
   "execution_count": 92,
   "metadata": {
    "collapsed": false,
    "nbgrader": {
     "checksum": "790b69a83b63d5a31b5fac1451dd3b54",
     "solution": true
    }
   },
   "outputs": [
    {
     "name": "stdout",
     "output_type": "stream",
     "text": [
      "['onehundredandnine', 'onehundredandeight', 'onehundredandseven', 'onehundredandsix', 'onehundredandfive', 'onehundredandfour', 'onehundredandthree', 'onehundredandtwo', 'onehundredandone', 'onehundred', 'ninetynine', 'ninetyeight', 'ninetyseven', 'ninetysix', 'ninetyfive', 'ninetyfour', 'ninetythree', 'ninetytwo', 'ninetyone', 'eightynine', 'eightyeight', 'eightyseven', 'eightysix', 'eightyfive', 'eightyfour', 'eightythree', 'eightytwo', 'eightyone', 'seventynine', 'seventyeight', 'seventyseven', 'seventysix', 'seventyfive', 'seventyfour', 'seventythree', 'seventytwo', 'seventyone', 'sixtynine', 'sixtyeight', 'sixtyseven', 'sixtysix', 'sixtyfive', 'sixtyfour', 'sixtythree', 'sixtytwo', 'sixtyone', 'fiftynine', 'fiftyeight', 'fiftyseven', 'fiftysix', 'fiftyfive', 'fiftyfour', 'fiftythree', 'fiftytwo', 'fiftyone', 'fortynine', 'fortyeight', 'fortyseven', 'fortysix', 'fortyfive', 'fortyfour', 'fortythree', 'fortytwo', 'fortyone', 'thirtynine', 'thirtyeight', 'thirtyseven', 'thirtysix', 'thirtyfive', 'thirtyfour', 'thirtythree', 'thirtytwo', 'thirtyone', 'twentynine', 'twentyeight', 'twentyseven', 'twentysix', 'twentyfive', 'twentyfour', 'twentythree', 'twentytwo', 'twentyone', 'twenty', 'nineteen', 'eighteen', 'seventeen', 'sixteen', 'fifteen', 'fourteen', 'thirteen', 'twelve', 'eleven', 'ten', 'nine', 'eight', 'seven', 'six', 'five', 'four', 'three', 'two', 'one']\n"
     ]
    }
   ],
   "source": [
    "\n",
    "\n",
    "\n",
    "def number_to_words(n):\n",
    "    \"\"\"Given a number n between 1-1000 inclusive return a list of words for the number.\"\"\"\n",
    "    numbers = {1:\"one\", 2:\"two\", 3:\"three\", 4:\"four\",5:\"five\", 6:\"six\", 7:\"seven\", 8:\"eight\", 9:\"nine\",\n",
    "    10:\"ten\", 11:\"eleven\", 12:\"twelve\", 13:\"thirteen\", 14:\"fourteen\", 15:\"fifteen\", \n",
    "    16:\"sixteen\", 17:\"seventeen\",18:\"eighteen\",19:\"nineteen\", \n",
    "    20:\"twenty\",30:\"thirty\", 40:\"forty\", 50:\"fifty\",60:\"sixty\",70:\"seventy\",80:\"eighty\",90:\"ninety\",\n",
    "    100: \"hundred\", 1000:\"thousand\"}\n",
    "\n",
    "    numStr = str(n)\n",
    "    a = []\n",
    "    p = len(numStr)\n",
    "    \n",
    "    s = n\n",
    "    while s !=0:\n",
    "        if s <=20:\n",
    "            a.append(numbers[s])\n",
    "        if 20<s<30:\n",
    "            f = str(s)\n",
    "            a.append(numbers[20]+numbers[int(f[1])])\n",
    "        if 30<s<40:\n",
    "            f = str(s)\n",
    "            a.append(numbers[30]+numbers[int(f[1])])\n",
    "        if 40<s<50:\n",
    "            f = str(s)\n",
    "            a.append(numbers[40]+numbers[int(f[1])])  \n",
    "        if 50<s<60:\n",
    "            f = str(s)\n",
    "            a.append(numbers[50]+numbers[int(f[1])])\n",
    "        if 60<s<70:\n",
    "            f = str(s)\n",
    "            a.append(numbers[60]+numbers[int(f[1])])\n",
    "        if 70<s<80:\n",
    "            f = str(s)\n",
    "            a.append(numbers[70]+numbers[int(f[1])])\n",
    "        if 80<s<90:\n",
    "            f = str(s)\n",
    "            a.append(numbers[80]+numbers[int(f[1])])\n",
    "        if 90<s<100:\n",
    "            f = str(s)\n",
    "            a.append(numbers[90]+numbers[int(f[1])])\n",
    "        if s == 100:\n",
    "            a.append(numbers[1] + numbers[100])\n",
    "        if s == 200:\n",
    "            a.append(numbers[2] + numbers[100])\n",
    "\n",
    "        if 100<s<1000:\n",
    "            f = str(s)\n",
    "            l = f[0]\n",
    "            a.append(numbers[int(l)] + numbers[100]+\"and\" + numbers[int(f[2])])\n",
    "\n",
    "            \n",
    "            \n",
    "        s = s-1\n",
    "    return a\n",
    "print (number_to_words(109))\n",
    "\n",
    "\n",
    "\n"
   ]
  },
  {
   "cell_type": "code",
   "execution_count": null,
   "metadata": {
    "collapsed": false,
    "deletable": false,
    "nbgrader": {
     "checksum": "6cff4e8e53b15273846c3aecaea84a3d",
     "solution": true
    }
   },
   "outputs": [],
   "source": []
  },
  {
   "cell_type": "code",
   "execution_count": null,
   "metadata": {
    "collapsed": true,
    "deletable": false,
    "nbgrader": {
     "checksum": "2c71c0f9dbe2a57b1ddc17bf544d86ed",
     "grade": true,
     "grade_id": "projecteuler17a",
     "points": 4
    }
   },
   "outputs": [],
   "source": [
    "assert True # use this for grading the number_to_words tests."
   ]
  },
  {
   "cell_type": "markdown",
   "metadata": {
    "nbgrader": {}
   },
   "source": [
    "Now define a `count_letters(n)` that returns the number of letters used to write out the words for all of the the numbers `1` to `n` inclusive."
   ]
  },
  {
   "cell_type": "code",
   "execution_count": null,
   "metadata": {
    "collapsed": true,
    "nbgrader": {
     "checksum": "be228a805b41eda2b30887a53523f76b",
     "solution": true
    }
   },
   "outputs": [],
   "source": [
    "def count_letters(n):\n",
    "    \"\"\"Count the number of letters used to write out the words for 1-n inclusive.\"\"\"\n",
    "    # YOUR CODE HERE\n",
    "    raise NotImplementedError()"
   ]
  },
  {
   "cell_type": "markdown",
   "metadata": {
    "nbgrader": {}
   },
   "source": [
    "Now write a set of `assert` tests for your `count_letters` function that verifies that it is working as expected."
   ]
  },
  {
   "cell_type": "code",
   "execution_count": null,
   "metadata": {
    "collapsed": true,
    "deletable": false,
    "nbgrader": {
     "checksum": "6cff4e8e53b15273846c3aecaea84a3d",
     "solution": true
    }
   },
   "outputs": [],
   "source": [
    "# YOUR CODE HERE\n",
    "raise NotImplementedError()"
   ]
  },
  {
   "cell_type": "code",
   "execution_count": null,
   "metadata": {
    "collapsed": true,
    "deletable": false,
    "nbgrader": {
     "checksum": "3a06c9610681f0174008f2976e310e0a",
     "grade": true,
     "grade_id": "projecteuler17b",
     "points": 4
    }
   },
   "outputs": [],
   "source": [
    "assert True # use this for grading the count_letters tests."
   ]
  },
  {
   "cell_type": "markdown",
   "metadata": {
    "nbgrader": {}
   },
   "source": [
    "Finally used your `count_letters` function to solve the original question."
   ]
  },
  {
   "cell_type": "code",
   "execution_count": null,
   "metadata": {
    "collapsed": true,
    "deletable": false,
    "nbgrader": {
     "checksum": "6cff4e8e53b15273846c3aecaea84a3d",
     "solution": true
    }
   },
   "outputs": [],
   "source": [
    "# YOUR CODE HERE\n",
    "raise NotImplementedError()"
   ]
  },
  {
   "cell_type": "code",
   "execution_count": null,
   "metadata": {
    "collapsed": true,
    "deletable": false,
    "nbgrader": {
     "checksum": "a136658e13c4f1154caf307a2e852f99",
     "grade": true,
     "grade_id": "projecteuler17c",
     "points": 2
    }
   },
   "outputs": [],
   "source": [
    "assert True # use this for gradig the answer to the original question."
   ]
  }
 ],
 "metadata": {
  "kernelspec": {
   "display_name": "Python 3",
   "language": "python",
   "name": "python3"
  },
  "language_info": {
   "codemirror_mode": {
    "name": "ipython",
    "version": 3
   },
   "file_extension": ".py",
   "mimetype": "text/x-python",
   "name": "python",
   "nbconvert_exporter": "python",
   "pygments_lexer": "ipython3",
   "version": "3.4.0"
  }
 },
 "nbformat": 4,
 "nbformat_minor": 0
}
