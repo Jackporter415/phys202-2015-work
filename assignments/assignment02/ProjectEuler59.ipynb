{
 "cells": [
  {
   "cell_type": "code",
   "execution_count": null,
   "metadata": {
    "collapsed": true,
    "nbgrader": {}
   },
   "outputs": [],
   "source": [
    "# Project Euler: Problem 59"
   ]
  },
  {
   "cell_type": "markdown",
   "metadata": {
    "nbgrader": {}
   },
   "source": [
    "https://projecteuler.net/problem=59\n",
    "\n",
    "Each character on a computer is assigned a unique code and the preferred standard is ASCII (American Standard Code for Information Interchange). For example, uppercase A = 65, asterisk (*) = 42, and lowercase k = 107.\n",
    "\n",
    "A modern encryption method is to take a text file, convert the bytes to ASCII, then XOR each byte with a given value, taken from a secret key. The advantage with the XOR function is that using the same encryption key on the cipher text, restores the plain text; for example, 65 XOR 42 = 107, then 107 XOR 42 = 65.\n",
    "\n",
    "For unbreakable encryption, the key is the same length as the plain text message, and the key is made up of random bytes. The user would keep the encrypted message and the encryption key in different locations, and without both \"halves\", it is impossible to decrypt the message.\n",
    "\n",
    "Unfortunately, this method is impractical for most users, so the modified method is to use a password as a key. If the password is shorter than the message, which is likely, the key is repeated cyclically throughout the message. The balance for this method is using a sufficiently long password key for security, but short enough to be memorable.\n",
    "\n",
    "Your task has been made easy, as the encryption key consists of three lower case characters. Using cipher.txt (in this directory), a file containing the encrypted ASCII codes, and the knowledge that the plain text must contain common English words, decrypt the message and find the sum of the ASCII values in the original text."
   ]
  },
  {
   "cell_type": "markdown",
   "metadata": {
    "nbgrader": {}
   },
   "source": [
    "The following cell shows examples of how to perform XOR in Python and how to go back and forth between characters and integers:"
   ]
  },
  {
   "cell_type": "code",
   "execution_count": null,
   "metadata": {
    "collapsed": true,
    "nbgrader": {}
   },
   "outputs": [],
   "source": [
    "assert 65 ^ 42 == 107\n",
    "assert 107 ^ 42 == 65\n",
    "assert ord('a') == 97\n",
    "assert chr(97) == 'a'"
   ]
  },
  {
   "cell_type": "markdown",
   "metadata": {
    "nbgrader": {}
   },
   "source": [
    "Certain functions in the `itertools` module may be useful for computing permutations:"
   ]
  },
  {
   "cell_type": "code",
   "execution_count": null,
   "metadata": {
    "collapsed": true,
    "nbgrader": {}
   },
   "outputs": [],
   "source": [
    "from itertools"
   ]
  },
  {
   "cell_type": "code",
   "execution_count": 12,
   "metadata": {
    "collapsed": false,
    "deletable": false,
    "nbgrader": {
     "checksum": "6cff4e8e53b15273846c3aecaea84a3d",
     "solution": true
    }
   },
   "outputs": [
    {
     "name": "stdout",
     "output_type": "stream",
     "text": [
      "5Avx5Yrfnxy>rs>Wzvs9>~}ma{o5/45/=\\p=avx5|xrws{wsr>i}{=Bqoq>|ylxtzd5{e|mipz35Vx5i|f>j|ju5Yrq2=tpy5vx5i|f>Zzz35,=]{=bn5ws5jup>pyt{pt{y=bwi}>Zzz35-=]{=vlxtjxq>xc{olju|pz5juplx5wn;>Szju|pz5{e|mif>i}i5vx5ztqp:a>ptux;>)5Rts{=|jnpr{5i|f>t{>u|s15sq>i}wn5rts{=rwkpm=ywz}j=aq=phxggr{{35+=Avx5rtrvi5mu|pxf>i}lr`yu5jup>ytlv{{nf2=tpy5jup>ytlv{{nf>~tp={{kpl=pfi|pz`wn}>ta0=#>Zzz=f{sa>Wzvs5jup>_tni|mi5)=aq=a{qy>xc{olqsp>|wqha>i}{=ywz}j=fq=av|a>xc{olqsp>p|yua>prtphx5|xvhf{=zx=}wn5jxfjtxqsl0=->Wzvs5vtxmxyx=bn5pra>i}{=ywz}j&5vx5i|f>r{rd5=bwi{{nf>iz>i}{=ywz}j35'=Avx5qsp>j}q=|m=avx5jo`{=ywz}j15iuz>z|hxf>q|yua>iz>xc{olqsp2=bn5yr|pz5jr5}rx{=|piz>i}{=bqoyz35/-5\\ha>|yjuzkz}>i}{=bqoyz=bn5s|q{=avozkz}>u|s15jup>jzlqq>y|zs2j=g{~zys|dx5vtx>j}{s5vx5}|x{35/,5[kpp=|p=}wn5qj{>qtpy5sq>|xqsr>u|m=zis5nxznqp2=}{=bn5pra>|v}xejxq0=$,=Wki5jr5qy>j}q=w{q|{kpz=}wp5sq>|v}xejxq>u|s15vx5y|c{=avx5ltrvi5jr5|xvqpp>~}wqqlx{>rs>Zzz35/.5Jupg=tlx5lxwqo{?=Avtf>tf>szj=t>m}gn|}|y>|li}>opmhyjt{y=slrx>u`s|{>mtmn|qs5qo5nqtp15ju|m=g{|li}>~zsxf>{gqp5Yrq0,!>Nz>i}{=Bqoq>p}|x{=}kptp=tpy5rtc{y5vxg{=zp=poav=tsr{y=`m35Vx5i|f>{`rq5q{5ksstywsr>qzhx5sq>{twi}xhypxfm35_sq>jp>uthx5mxpp=}wn5yqzld9>i}{=rrrgg=zx=avx5qsyg=Fqs5q{5jup>[tjupl3\n"
     ]
    }
   ],
   "source": [
    "#Worked with Andrew Exton (Not in the class)\n",
    "\n",
    "import csv\n",
    "\n",
    "#Opens the file and creates an empty list\n",
    "encryptedFile = open(\"cipher.txt\")\n",
    "encryptedValues = []\n",
    "\n",
    "#Reads the file and puts the information in a list\n",
    "for row in csv.reader(encryptedFile):\n",
    "    for value in row:\n",
    "        encryptedValues.append(value)\n",
    "\n",
    "#Iterating through ASCII values 97 to 123 three times to create 26 ^ 3 combinations of encryptions\n",
    "for encryptionA in range(97,123):\n",
    "    for encryptionB in range(97,123):\n",
    "        for encryptionC in range(97,123):\n",
    "            encryption = [encryptionA, encryptionB, encryptionC]\n",
    "            encryptionStr = str(chr(encryptionA)) + str(chr(encryptionB)) + str(chr(encryptionC))\n",
    "            #print(encryptionStr)\n",
    "            \n",
    "            #Creates an empty string and variable index\n",
    "            message = \"\"\n",
    "            index = 0\n",
    "            \n",
    "            #Loops through each encrypted value in the file and decrypts it appending it to the message string\n",
    "            for encryptedValue in encryptedValues:\n",
    "                decryptedValue = int(encryptedValue) ^ encryption[index]\n",
    "                message += str(chr(decryptedValue))     \n",
    "                index += 1\n",
    "                \n",
    "                #Because we know the password is three characters, this loops the index 0,1,2 and repeats\n",
    "                if index > 1:\n",
    "                    index = 0\n",
    "                    \n",
    "            #Searches for the word \"the\" in message and if it is there it will print the message and the password        \n",
    "            isText = message.find(\"the\", 0, len(message))\n",
    "            if isText:\n",
    "                print (encryptionStr)\n",
    "                print(message)\n",
    "                \n",
    "            \n",
    "\n",
    "            \n",
    "            \n",
    "\n",
    "\n",
    "    "
   ]
  },
  {
   "cell_type": "code",
   "execution_count": null,
   "metadata": {
    "collapsed": true,
    "deletable": false,
    "nbgrader": {
     "checksum": "dcdf6792a88c661545d3ca651212dba8",
     "grade": true,
     "grade_id": "projecteuler59",
     "points": 10
    }
   },
   "outputs": [],
   "source": [
    "# This cell will be used for grading, leave it at the end of the notebook."
   ]
  },
  {
   "cell_type": "code",
   "execution_count": null,
   "metadata": {
    "collapsed": true
   },
   "outputs": [],
   "source": []
  }
 ],
 "metadata": {
  "kernelspec": {
   "display_name": "Python 3",
   "language": "python",
   "name": "python3"
  },
  "language_info": {
   "codemirror_mode": {
    "name": "ipython",
    "version": 3
   },
   "file_extension": ".py",
   "mimetype": "text/x-python",
   "name": "python",
   "nbconvert_exporter": "python",
   "pygments_lexer": "ipython3",
   "version": "3.4.0"
  }
 },
 "nbformat": 4,
 "nbformat_minor": 0
}
