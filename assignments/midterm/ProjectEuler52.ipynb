{
 "cells": [
  {
   "cell_type": "markdown",
   "metadata": {
    "nbgrader": {}
   },
   "source": [
    "# Project Euler: Problem 52"
   ]
  },
  {
   "cell_type": "markdown",
   "metadata": {
    "nbgrader": {}
   },
   "source": [
    "https://projecteuler.net/problem=52\n",
    "\n",
    "It can be seen that the number, $125874$, and its double, $251748$, contain exactly the same digits, but in a different order.\n",
    "\n",
    "Find the smallest positive integer, $x$, such that $2x$, $3x$, $4x$, $5x$, and $6x$, contain the same digits."
   ]
  },
  {
   "cell_type": "markdown",
   "metadata": {
    "nbgrader": {}
   },
   "source": [
    "First, write a function `same_digits(x,y)` that returns `True` if two integers `x` and `y` have the exact same set of digits and multiplicities and `False` if they have different digits."
   ]
  },
  {
   "cell_type": "code",
   "execution_count": 95,
   "metadata": {
    "collapsed": false,
    "nbgrader": {
     "checksum": "aad5ed41801af39fc06f00c8d275a010",
     "solution": true
    }
   },
   "outputs": [
    {
     "data": {
      "text/plain": [
       "False"
      ]
     },
     "execution_count": 95,
     "metadata": {},
     "output_type": "execute_result"
    }
   ],
   "source": [
    "import numpy as np\n",
    "\n",
    "def same_digits(x, y):\n",
    "    \"\"\"Do the integers x and y have the same digits, regardless of order.\"\"\"\n",
    "    xx = str(x)\n",
    "    yy = str(y)\n",
    "    sum_1 = 0\n",
    "    sum_2 = 0\n",
    "    i = 0\n",
    "    mult_1 = 0\n",
    "    mult_2 = 0\n",
    "    while i < len(xx):\n",
    "        if len(xx) != len(yy):\n",
    "            return False\n",
    "        sum_1 += int(xx[i])\n",
    "        sum_2 += int(yy[i])\n",
    "        mult_1 = int(xx[i])*int(xx[i-1])\n",
    "        mult_2 = int(yy[i])*int(yy[i-1])\n",
    "        \n",
    "        i+=1\n",
    "    mult_3 = mult_2 * int(yy[0])\n",
    "    mult_4 = mult_1 * int(xx[0])\n",
    "    if sum_1 == sum_2 and mult_4 == mult_3:\n",
    "        return True\n",
    "    else:\n",
    "        return False\n",
    "\n",
    "\"\"\"My thoughts here were that the sum and product of all the numbers in the x and y woud be equal.\n",
    "\"\"\"\n",
    "same_digits('101', '202')"
   ]
  },
  {
   "cell_type": "code",
   "execution_count": 86,
   "metadata": {
    "collapsed": false,
    "deletable": false,
    "nbgrader": {
     "checksum": "dd0aff5d565bc794cee175aaa6c0cb3d",
     "grade": true,
     "grade_id": "projecteuler52a",
     "points": 4
    }
   },
   "outputs": [],
   "source": [
    "assert same_digits('132', '321')\n",
    "assert not same_digits('123', '3')\n",
    "assert not same_digits('456', '0987654321')"
   ]
  },
  {
   "cell_type": "markdown",
   "metadata": {
    "nbgrader": {}
   },
   "source": [
    "Now use the `same_digits` function to solve this Euler problem. As you work on this problem, be careful to debug and test your code on small integers before trying it on the full search."
   ]
  },
  {
   "cell_type": "code",
   "execution_count": 97,
   "metadata": {
    "collapsed": false,
    "deletable": false,
    "nbgrader": {
     "checksum": "6cff4e8e53b15273846c3aecaea84a3d",
     "solution": true
    }
   },
   "outputs": [
    {
     "name": "stdout",
     "output_type": "stream",
     "text": [
      "101\n"
     ]
    },
    {
     "data": {
      "text/plain": [
       "'I want to loop through every number and put them into same digits. '"
      ]
     },
     "execution_count": 97,
     "metadata": {},
     "output_type": "execute_result"
    }
   ],
   "source": [
    "s = 0\n",
    "while False:\n",
    "    s+=1\n",
    "    answer_1 = same_digits(s,2*s)\n",
    "    answer_2 = same_digits(s,3*s)\n",
    "    answer_3 = same_digits(s,4*s)\n",
    "    answer_4 = same_digits(s,5*s)\n",
    "    answer_5 = same_digits(s,6*s)\n",
    "    if answer_1 and answer_2 and answer_3 and answer_4 and answer_5 == True:\n",
    "        return True\n",
    "\n",
    "    \n",
    "\n",
    "if answer == True:\n",
    "    print(i)\n",
    "    \n",
    "\"\"\"I want to loop through every number and put them into same digits. \"\"\""
   ]
  },
  {
   "cell_type": "code",
   "execution_count": 94,
   "metadata": {
    "collapsed": true,
    "deletable": false,
    "nbgrader": {
     "checksum": "dafbda681e8fb50925790dc1d0600750",
     "grade": true,
     "grade_id": "projecteuler52b",
     "points": 6
    }
   },
   "outputs": [],
   "source": [
    "assert True # leave this cell to grade the solution"
   ]
  },
  {
   "cell_type": "code",
   "execution_count": null,
   "metadata": {
    "collapsed": true
   },
   "outputs": [],
   "source": []
  }
 ],
 "metadata": {
  "kernelspec": {
   "display_name": "Python 3",
   "language": "python",
   "name": "python3"
  },
  "language_info": {
   "codemirror_mode": {
    "name": "ipython",
    "version": 3
   },
   "file_extension": ".py",
   "mimetype": "text/x-python",
   "name": "python",
   "nbconvert_exporter": "python",
   "pygments_lexer": "ipython3",
   "version": "3.4.0"
  }
 },
 "nbformat": 4,
 "nbformat_minor": 0
}
